{
  "nbformat": 4,
  "nbformat_minor": 0,
  "metadata": {
    "colab": {
      "name": "NLP.ipynb",
      "provenance": [],
      "authorship_tag": "ABX9TyPqwC/hfyKv8urbIgczhcy/",
      "include_colab_link": true
    },
    "kernelspec": {
      "name": "python3",
      "display_name": "Python 3"
    },
    "language_info": {
      "name": "python"
    }
  },
  "cells": [
    {
      "cell_type": "markdown",
      "metadata": {
        "id": "view-in-github",
        "colab_type": "text"
      },
      "source": [
        "<a href=\"https://colab.research.google.com/github/samarth-t/Reddit-Upvote-Predictor/blob/master/predictor.ipynb\" target=\"_parent\"><img src=\"https://colab.research.google.com/assets/colab-badge.svg\" alt=\"Open In Colab\"/></a>"
      ]
    },
    {
      "cell_type": "code",
      "metadata": {
        "id": "BPF31J0-ibYi"
      },
      "source": [
        "!python -m pip install \"dask[complete]\" \n",
        "!python -m pip install dask-ml\n",
        "!python -m pip install dask distributed --upgrade"
      ],
      "execution_count": null,
      "outputs": []
    },
    {
      "cell_type": "code",
      "metadata": {
        "id": "q3lqm8D6ltcP"
      },
      "source": [
        "from dask.distributed import Client\n",
        "client = Client()\n",
        "import dask.dataframe as dd\n",
        "import dask.array as da\n",
        "from dask_ml.model_selection import train_test_split\n",
        "from dask_ml.wrappers import Incremental"
      ],
      "execution_count": 2,
      "outputs": []
    },
    {
      "cell_type": "code",
      "metadata": {
        "colab": {
          "base_uri": "https://localhost:8080/"
        },
        "id": "q9tELbiuCSTe",
        "outputId": "2de3edb3-bcf6-4ea2-a683-41ca4d703320"
      },
      "source": [
        "import pandas as pd\n",
        "import numpy as np\n",
        "from sklearn.feature_extraction.text import TfidfVectorizer\n",
        "import matplotlib.pyplot as plt\n",
        "%matplotlib inline\n",
        "from sklearn.linear_model import Ridge\n",
        "from sklearn.metrics import mean_absolute_error\n",
        "import joblib\n",
        "from joblib import parallel_backend\n",
        "\n",
        "from google.colab import drive\n",
        "import nltk\n",
        "nltk.download('stopwords')\n",
        "nltk.download('punkt')\n",
        "from nltk.corpus import stopwords\n",
        "drive.mount('/content/drive')"
      ],
      "execution_count": 3,
      "outputs": [
        {
          "output_type": "stream",
          "text": [
            "[nltk_data] Downloading package stopwords to /root/nltk_data...\n",
            "[nltk_data]   Package stopwords is already up-to-date!\n",
            "[nltk_data] Downloading package punkt to /root/nltk_data...\n",
            "[nltk_data]   Package punkt is already up-to-date!\n",
            "Drive already mounted at /content/drive; to attempt to forcibly remount, call drive.mount(\"/content/drive\", force_remount=True).\n"
          ],
          "name": "stdout"
        }
      ]
    },
    {
      "cell_type": "code",
      "metadata": {
        "id": "KOdVBjb7EWHb"
      },
      "source": [
        "#Defining preprocessing functions using nltk\n",
        "def tokenize(text):\n",
        "    tokens = nltk.word_tokenize(text)\n",
        "    return list(filter(lambda word: word.isalnum(), tokens))"
      ],
      "execution_count": 4,
      "outputs": []
    },
    {
      "cell_type": "code",
      "metadata": {
        "colab": {
          "base_uri": "https://localhost:8080/"
        },
        "id": "LDODDaR-E7Y8",
        "outputId": "b0479af6-772e-4ee1-f13c-0c28cce7d7e8"
      },
      "source": [
        "file = \"/content/drive/MyDrive/Eluvio/DSChallenge/Reddit_Upvote_Data.csv\"\n",
        "\n",
        "#only using 80% of data for test train split\n",
        "data = dd.read_csv(file)\n",
        "X_train, X_test, y_train, y_test = train_test_split(data['title'], data['up_votes'], test_size=0.2)"
      ],
      "execution_count": 5,
      "outputs": [
        {
          "output_type": "stream",
          "text": [
            "/usr/local/lib/python3.7/dist-packages/dask_ml/model_selection/_split.py:469: FutureWarning: The default value for 'shuffle' must be specified when splitting DataFrames. In the future DataFrames will automatically be shuffled within blocks prior to splitting. Specify 'shuffle=True' to adopt the future behavior now, or 'shuffle=False' to retain the previous behavior.\n",
            "  category=FutureWarning,\n"
          ],
          "name": "stderr"
        }
      ]
    },
    {
      "cell_type": "code",
      "metadata": {
        "colab": {
          "base_uri": "https://localhost:8080/"
        },
        "id": "iqVzEJEwmfkm",
        "outputId": "cb231c06-55b7-436f-9405-9dbdf5232e3f"
      },
      "source": [
        "reg = Ridge()\n",
        "tfidf = TfidfVectorizer(tokenizer=tokenize, stop_words=stopwords.words('english'))\n",
        "\n",
        "with parallel_backend('dask'):\n",
        "  # Apply preprocessing and apply tf-idf transform\n",
        "  tfidf.fit(X_train)\n",
        "  X_train_tfidf = tfidf.transform(X_train)\n",
        "  X_test_tfidf = tfidf.transform(X_test)\n",
        "  reg.fit(X_train_tfidf, y_train)\n",
        "  predictions = reg.predict(X_test_tfidf)"
      ],
      "execution_count": 6,
      "outputs": [
        {
          "output_type": "stream",
          "text": [
            "/usr/local/lib/python3.7/dist-packages/sklearn/feature_extraction/text.py:489: UserWarning: The parameter 'token_pattern' will not be used since 'tokenizer' is not None'\n",
            "  warnings.warn(\"The parameter 'token_pattern' will not be used\"\n",
            "/usr/local/lib/python3.7/dist-packages/sklearn/feature_extraction/text.py:391: UserWarning: Your stop_words may be inconsistent with your preprocessing. Tokenizing the stop words generated tokens ['could', 'might', 'must', 'need', 'sha', 'wo', 'would'] not in stop_words.\n",
            "  'stop_words.' % sorted(inconsistent))\n"
          ],
          "name": "stderr"
        }
      ]
    },
    {
      "cell_type": "code",
      "metadata": {
        "colab": {
          "base_uri": "https://localhost:8080/",
          "height": 296
        },
        "id": "sGM9wobl1_6I",
        "outputId": "ef391c8a-26e5-4b8d-f2b9-5938a6cf45ac"
      },
      "source": [
        "print('MAE: ', mean_absolute_error(predictions, y_test))\n",
        "\n",
        "plt.scatter(y_test.to_dask_array(lengths=True), predictions)\n",
        "plt.xlabel('Actual Upvotes')\n",
        "plt.ylabel('Predicted Upvotes')\n",
        "plt.show()"
      ],
      "execution_count": 7,
      "outputs": [
        {
          "output_type": "stream",
          "text": [
            "MAE:  208.63042120087073\n"
          ],
          "name": "stdout"
        },
        {
          "output_type": "display_data",
          "data": {
            "image/png": "[encoded data removed]",
            "text/plain": [
              "<Figure size 432x288 with 1 Axes>"
            ]
          },
          "metadata": {
            "tags": [],
            "needs_background": "light"
          }
        }
      ]
    }
  ]
}